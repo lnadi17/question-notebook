{
 "cells": [
  {
   "cell_type": "code",
   "execution_count": 1,
   "metadata": {},
   "outputs": [],
   "source": [
    "import numpy as np\n",
    "import matplotlib.pyplot as plt\n",
    "from sympy import symbols, Function, lambdify, simplify, im\n",
    "from sympy.solvers import solve"
   ]
  },
  {
   "cell_type": "markdown",
   "metadata": {},
   "source": [
    "![\"img1\"](./img1.png)"
   ]
  },
  {
   "cell_type": "markdown",
   "metadata": {},
   "source": [
    "We need to graph absolute value of $V_2/V_1$ over $\\omega / \\omega_r$ where $\\omega_r$ is a resonance frequency. $L=100mH$ and $C=10\\mu F$.  We calculate impedance of the whole circuit first:"
   ]
  },
  {
   "cell_type": "markdown",
   "metadata": {},
   "source": [
    "$$Z = R + j\\omega L + \\left(R + j \\omega L\\right)\\parallel\\left(\\frac{1}{j\\omega C}\\right) \\\\\n",
    "Z = R + j\\omega L + \\frac{R + j\\omega L}{1+j\\omega RC - \\omega^2 LC}\n",
    "$$"
   ]
  },
  {
   "cell_type": "code",
   "execution_count": 2,
   "metadata": {},
   "outputs": [],
   "source": [
    "# create symbols\n",
    "r, l, c, z = symbols('R L C Z')\n",
    "w = symbols('\\omega', positive=\"True\")\n",
    "\n",
    "# write expression of impedance\n",
    "z = r + 1j*w*l + (r + 1j*w*l)/(1 + 1j*w*r*c - w**2*l*c)\n",
    "\n",
    "# create 'values' dictionary for substitution\n",
    "values = {r: 141.4, l: 100e-3, c:10e-6}"
   ]
  },
  {
   "cell_type": "markdown",
   "metadata": {},
   "source": [
    "Now that we have an expression for impedance, we can calculate $I_{ph}=V_{ph}/Z$:"
   ]
  },
  {
   "cell_type": "code",
   "execution_count": 3,
   "metadata": {},
   "outputs": [],
   "source": [
    "# create function\n",
    "i_ph = Function('I')(w)\n",
    "# assign value to it\n",
    "i_ph = 10/z\n",
    "# substitute known values\n",
    "i_ph = i_ph.subs(values)"
   ]
  },
  {
   "cell_type": "markdown",
   "metadata": {},
   "source": [
    "After getting $I_{ph}$ as a function of $\\omega$, we are able to plot its absolute value:"
   ]
  },
  {
   "cell_type": "code",
   "execution_count": 4,
   "metadata": {
    "scrolled": true
   },
   "outputs": [
    {
     "data": {
      "image/png": "[encoded data removed]",
      "text/plain": [
       "<Figure size 432x288 with 1 Axes>"
      ]
     },
     "metadata": {
      "needs_background": "light"
     },
     "output_type": "display_data"
    }
   ],
   "source": [
    "x = np.logspace(2, 5, 1000)\n",
    "y = lambdify(w, i_ph, 'numpy')\n",
    "\n",
    "plt.semilogx(x, abs(y(x)));"
   ]
  },
  {
   "cell_type": "markdown",
   "metadata": {},
   "source": [
    "As we can see, absolute value of current has only one peak, but more on that later. Now we can compute $V_1$ which is equal to $I_{ph}R$:"
   ]
  },
  {
   "cell_type": "code",
   "execution_count": 5,
   "metadata": {},
   "outputs": [],
   "source": [
    "v1 = i_ph*r"
   ]
  },
  {
   "cell_type": "markdown",
   "metadata": {},
   "source": [
    "We also compute $V_2$ with the help of current division rule:"
   ]
  },
  {
   "cell_type": "code",
   "execution_count": 6,
   "metadata": {},
   "outputs": [],
   "source": [
    "# compute current through resistance on the right\n",
    "i_right = i_ph * (1/(1j*w*c)) / (1/(1j*w*c) + r + 1j*w*l)\n",
    "\n",
    "# calculate v2\n",
    "v2 = i_right * r"
   ]
  },
  {
   "cell_type": "markdown",
   "metadata": {},
   "source": [
    "Now we can plot $\\left|H\\left(\\omega \\right) \\right| = \\left|\\frac{V_2}{V_1}\\right|$ as a function of $\\omega$:"
   ]
  },
  {
   "cell_type": "code",
   "execution_count": 7,
   "metadata": {},
   "outputs": [
    {
     "data": {
      "image/png": "[encoded data removed]",
      "text/plain": [
       "<Figure size 432x288 with 1 Axes>"
      ]
     },
     "metadata": {
      "needs_background": "light"
     },
     "output_type": "display_data"
    }
   ],
   "source": [
    "H = Function('H')(w)\n",
    "H = v2/v1\n",
    "H = H.subs(values)\n",
    "\n",
    "x = np.logspace(2, 5, 1000)\n",
    "y = lambdify(w, abs(H), 'numpy')\n",
    "plt.semilogx(x, y(x));"
   ]
  },
  {
   "cell_type": "markdown",
   "metadata": {},
   "source": [
    "So far so good, but when we arrive at computing $\\omega_r$, it gets very confusing. During the lecture we said that $\\omega_r=\\sqrt{\\cfrac{2}{LC}}$, but is that really true? \n",
    "\n",
    "We got that answer by acquiring thevenin equivalent circuit on the terminals of capacitor and equating imaginary part of total impedance to zero, like this:"
   ]
  },
  {
   "cell_type": "markdown",
   "metadata": {},
   "source": [
    "![\"img2\"](./img2.png)"
   ]
  },
  {
   "cell_type": "markdown",
   "metadata": {},
   "source": [
    "$$Z = \\frac{R}{2}+j\\left(\\frac{\\omega L}{2} - \\frac{1}{\\omega C}\\right) \\implies \\frac{\\omega L}{2}- \\frac{1}{\\omega C} = 0 \\implies \n",
    "\\frac{\\omega^2LC}{2}=0 \\implies \\omega_r = \\sqrt{\\cfrac{2}{LC}}\n",
    "$$"
   ]
  },
  {
   "cell_type": "markdown",
   "metadata": {},
   "source": [
    "But frequency we got was for thevenin equivalent circuit. Thevenin equivalent circuit preserves current and voltage <b>only through load</b> (in this case capacitor), but is that neccessary that $\\omega_r$ of thevenin equivalent circuit is equal to $\\omega_r$ of original circuit?"
   ]
  },
  {
   "cell_type": "markdown",
   "metadata": {},
   "source": [
    "If that is so, then it should also work on the circuit given below:"
   ]
  },
  {
   "cell_type": "markdown",
   "metadata": {},
   "source": [
    "![\"img2\"](./img3.png)"
   ]
  },
  {
   "cell_type": "markdown",
   "metadata": {},
   "source": [
    "This circuit resonates at $0$ and $\\infty$ frequencies, it is a band stop filter. but if we get thevenin equivalent circuit with an inductor as load and calculate its resonant frequency, we get this:"
   ]
  },
  {
   "cell_type": "markdown",
   "metadata": {},
   "source": [
    "$$\n",
    "Z_{th} = 1 \\parallel \\frac{-j}{\\omega} = \\frac{-j}{\\omega - j} \\\\\n",
    "$$"
   ]
  },
  {
   "cell_type": "markdown",
   "metadata": {},
   "source": [
    "$$Z = Z_{th} + j\\omega = \\frac{-j}{\\omega - j} + j\\omega = \\frac{-j(j+\\omega) + j\\omega(1+\\omega^2)}{1+\\omega^2} = \\frac{1-{j\\omega} +j\\omega+j\\omega^3}{1+\\omega^2}$$"
   ]
  },
  {
   "cell_type": "markdown",
   "metadata": {},
   "source": [
    "$$\\operatorname{Im}Z = \\frac{\\omega^3}{1+\\omega^2} = 0\\implies \\omega = 0$$"
   ]
  },
  {
   "cell_type": "markdown",
   "metadata": {},
   "source": [
    "Which means that resonant frequencies do not match."
   ]
  },
  {
   "cell_type": "markdown",
   "metadata": {},
   "source": [
    "If finding thevenin equivalent circuit is not applicable in this example, why did we use it for solving our original problem? I think we made a mistake by assuming that thevenin equivalent circuit preserves all circuit charasteristics, including resonant frequency. In fact, if we substitute $\\omega_r = \\sqrt{\\cfrac{2}{LC}}=1000\\sqrt{2}$ back into expression for impedance, we'll get complex number:"
   ]
  },
  {
   "cell_type": "code",
   "execution_count": 8,
   "metadata": {},
   "outputs": [
    {
     "data": {
      "text/latex": [
       "$\\displaystyle 169.686834099118 + 56.5651249292733 i$"
      ],
      "text/plain": [
       "169.686834099118 + 56.5651249292733*I"
      ]
     },
     "execution_count": 8,
     "metadata": {},
     "output_type": "execute_result"
    }
   ],
   "source": [
    "wr = 1000*np.sqrt(2)\n",
    "\n",
    "# substitute R, L, C in Z\n",
    "z = z.subs(values)\n",
    "# substitute omega in Z and print it\n",
    "simplify(z.subs(w, wr))"
   ]
  },
  {
   "cell_type": "markdown",
   "metadata": {},
   "source": [
    "But from the definition of resonant frequency, impedance must be real and not complex like we got by substitution. This means that $\\sqrt{\\cfrac{2}{LC}}$ cannot be a resonant frequency. But if that isn't the correct answer, then what is?"
   ]
  },
  {
   "cell_type": "markdown",
   "metadata": {},
   "source": [
    "If we want to find $\\omega_r$, we must solve $\\operatorname{Im}Z = 0$. I don't know an easy way of doing that. Just simplifying an expression for impedance until I isolate its imaginary part seems like the only way, but it's tedious (and maybe sometimes impossible) to solve by hand. Let python do this work for us:"
   ]
  },
  {
   "cell_type": "code",
   "execution_count": 9,
   "metadata": {},
   "outputs": [
    {
     "name": "stdout",
     "output_type": "stream",
     "text": [
      "[24.5764114548890, 1000.00000000000]\n"
     ]
    }
   ],
   "source": [
    "solutions = solve(im(z), w)\n",
    "\n",
    "print(solutions)"
   ]
  },
  {
   "cell_type": "markdown",
   "metadata": {},
   "source": [
    "Turns out that $\\omega_r$ has two values. I'm still a bit confused why those values didn't show up in graph. Is it because that by solving simpler circuits I wrongly assumed absolute value of current always has peak only at resonant frequencies? Also, I expected current to have two peaks because of two resonant frequencies, but nothing really happens at these values:"
   ]
  },
  {
   "cell_type": "code",
   "execution_count": 10,
   "metadata": {},
   "outputs": [
    {
     "data": {
      "image/png": "[encoded data removed]",
      "text/plain": [
       "<Figure size 432x288 with 1 Axes>"
      ]
     },
     "metadata": {
      "needs_background": "light"
     },
     "output_type": "display_data"
    }
   ],
   "source": [
    "# plot current again\n",
    "x = np.logspace(0, 4, 1000)\n",
    "y = lambdify(w, i_ph, 'numpy')\n",
    "\n",
    "plt.semilogx(x, abs(y(x)))\n",
    "\n",
    "# plot vertical lines where solutions are\n",
    "for sol in solutions:\n",
    "    plt.axvline(sol, color='r', ls='--')\n",
    "    plt.text(sol, 0.015, '  x = ' + str(round(sol)), rotation=0)"
   ]
  },
  {
   "cell_type": "markdown",
   "metadata": {},
   "source": [
    "But when we plot the angle of current, it really gets $0$ at resonant frequencies (it means that impedance is real there), which confirms that $\\omega = 24.58$ and $\\omega = 1000$ are resonant frequencies insead of $\\omega = 1000\\sqrt{2}$:"
   ]
  },
  {
   "cell_type": "code",
   "execution_count": 11,
   "metadata": {},
   "outputs": [
    {
     "data": {
      "image/png": "[encoded data removed]",
      "text/plain": [
       "<Figure size 432x288 with 3 Axes>"
      ]
     },
     "metadata": {
      "needs_background": "light"
     },
     "output_type": "display_data"
    }
   ],
   "source": [
    "y = lambdify(w, i_ph, 'numpy')\n",
    "\n",
    "# plot angle of current\n",
    "ax1 = plt.subplot(2, 2, (1, 2))\n",
    "x = np.linspace(0, 1400, 100)\n",
    "ax1.plot(x, np.angle(y(x)))\n",
    "\n",
    "# zoom in for first solution\n",
    "ax2 = plt.subplot(2, 2, 3)\n",
    "x = np.linspace(0, 30, 100)\n",
    "ax2.plot(x, np.angle(y(x)))\n",
    "ax2.axvline(24.58, color='gray', ls='--')\n",
    "ax2.axhline(0, color='gray', ls='--')\n",
    "\n",
    "# zoom in for second solution\n",
    "ax3 = plt.subplot(2, 2, 4)\n",
    "x = np.linspace(950, 1050, 100)\n",
    "ax3.plot(x, np.angle(y(x)))\n",
    "ax3.axvline(1000, color='gray', ls='--')\n",
    "ax3.axhline(0, color='gray', ls='--');"
   ]
  },
  {
   "cell_type": "markdown",
   "metadata": {},
   "source": [
    "Above graphs confirm that resonant frequency is not $1000\\sqrt{2}$ but $1000$, $24.58$ and asymptotically $0$."
   ]
  },
  {
   "cell_type": "markdown",
   "metadata": {},
   "source": [
    "So what about initial question? If we need to plot $V_2/V_1$ over $\\omega / \\omega_r$, there are multiple answers, because there are multiple resonant frequencies. None of them can be found easily by hand. It so happens that picture of given circuit already had some information in it, but we didn't use them during the lecture."
   ]
  },
  {
   "cell_type": "markdown",
   "metadata": {},
   "source": [
    "For example, we know from the picture that $Z_C = -j100\\ \\Omega$ and we also know that $C=10\\mu F$. This implies that $\\omega = 1000$. When we substitute $\\omega$ in impedance, it doesn't have an imaginary part, so one of resonant frequencies is $1000$. My question is, which $\\omega_r$ should choose for plotting?"
   ]
  },
  {
   "cell_type": "markdown",
   "metadata": {},
   "source": [
    "If we choose $1000$ and plot $V_2/V_1$ over $\\omega / \\omega_r$, we get this:"
   ]
  },
  {
   "cell_type": "code",
   "execution_count": 12,
   "metadata": {},
   "outputs": [
    {
     "data": {
      "image/png": "[encoded data removed]",
      "text/plain": [
       "<Figure size 432x288 with 1 Axes>"
      ]
     },
     "metadata": {
      "needs_background": "light"
     },
     "output_type": "display_data"
    }
   ],
   "source": [
    "x = np.linspace(1, 5000, 1000)\n",
    "y = lambdify(w, abs(H), 'numpy')\n",
    "\n",
    "# rescale x axis\n",
    "plt.plot(x/1000, y(x));"
   ]
  },
  {
   "cell_type": "markdown",
   "metadata": {},
   "source": [
    "Which must be one of the right answers."
   ]
  }
 ],
 "metadata": {
  "kernelspec": {
   "display_name": "Python 3",
   "language": "python",
   "name": "python3"
  },
  "language_info": {
   "codemirror_mode": {
    "name": "ipython",
    "version": 3
   },
   "file_extension": ".py",
   "mimetype": "text/x-python",
   "name": "python",
   "nbconvert_exporter": "python",
   "pygments_lexer": "ipython3",
   "version": "3.7.4"
  }
 },
 "nbformat": 4,
 "nbformat_minor": 2
}
