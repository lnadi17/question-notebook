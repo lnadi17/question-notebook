{
 "cells": [
  {
   "cell_type": "code",
   "execution_count": 1,
   "metadata": {},
   "outputs": [],
   "source": [
    "# საჭირო ბიბლიოთეკები\n",
    "import matplotlib.pyplot as plt\n",
    "import numpy as np\n",
    "from numpy.lib.scimath import sqrt as csqrt\n",
    "from sympy import *\n",
    "from sympy.solvers.solveset import linsolve"
   ]
  },
  {
   "cell_type": "markdown",
   "metadata": {},
   "source": [
    "მაგალითად, გვჭირდება მიმდევრობით ჩართული წინაღობის, კონდენსატორისა და ინდუქტორის შეერთებაში დენის დროზე დამოკიდებულების გაგება. თუ სწორად შევარჩევთ მათ მნიშვნელობებს, დაგვიჯდება დიფერენციალური განტოლება, რომელშიც თუ აღვნიშნავთ საძებნ ფუნქციას y-ით, ექნება შემდეგი სახე:"
   ]
  },
  {
   "attachments": {},
   "cell_type": "markdown",
   "metadata": {},
   "source": [
    "![image.png](img1.png)"
   ]
  },
  {
   "attachments": {},
   "cell_type": "markdown",
   "metadata": {},
   "source": [
    "მახასიათებელი განტოლების ფესვებია: ![image.png](img2.png)\n",
    "ქვემოთ მოყვანილი კოდის შედეგიც შესაბამისობაში მოდის წიგნის მაგალითში მიღებულ შედეგთან:"
   ]
  },
  {
   "cell_type": "code",
   "execution_count": 2,
   "metadata": {},
   "outputs": [
    {
     "data": {
      "text/plain": [
       "((-0.5+3j), (-0.5-3j))"
      ]
     },
     "execution_count": 2,
     "metadata": {},
     "output_type": "execute_result"
    }
   ],
   "source": [
    "a, b, c = 1, 1, 9.25\n",
    "\n",
    "D = b**2 - 4*a*c\n",
    "r1, r2 = (-b + csqrt(D))/(2*a), (-b - csqrt(D))/(2*a)\n",
    "\n",
    "# მახასიათებელი განტოლების ფესვები\n",
    "r1, r2"
   ]
  },
  {
   "cell_type": "code",
   "execution_count": 3,
   "metadata": {},
   "outputs": [],
   "source": [
    "# გრაფიკის ასაგებად მომზადება: ვიღებ 100 თანაბრად დაშორებულ წერტილს [0, 10] შუალედში\n",
    "t = np.linspace(0, 10, 100)\n",
    "# ვწერ ექსპონენციალურ ფუნქციას:\n",
    "y1_exp = np.e**(r1*t)\n",
    "y2_exp = np.e**(r2*t)\n",
    "# იგივე ფუნქციები გაშლილი ეილერის იდენტობით:\n",
    "y1_trig = np.e**(r1.real*t)*(np.cos(r1.imag*t)+1j*np.sin(r1.imag*t))\n",
    "y2_trig = np.e**(r2.real*t)*(np.cos(r2.imag*t)+1j*np.sin(r2.imag*t))"
   ]
  },
  {
   "cell_type": "markdown",
   "metadata": {},
   "source": [
    "exp და trig ფუნქციებს კომპლექსური მნიშვნელობები აქვთ. მათი გრაფიკის დახატვას თუ ვცდით, ფუნქციის მნიშვნელობებს წარმოსახვითი ნაწილი ჩამოშორდებათ, რაც გასაგებია. y1 და y2 ფუნქციების მხოლოდ წარმოსახვითი ნაწილი განსხვავდება, ამიტომ მათი გრაფიკები ნამდვილ ღერძზე ემთხვევა და აქვს ასეთი სახე:"
   ]
  },
  {
   "cell_type": "code",
   "execution_count": 4,
   "metadata": {},
   "outputs": [
    {
     "name": "stderr",
     "output_type": "stream",
     "text": [
      "C:\\Users\\Luka\\Anaconda3\\lib\\site-packages\\numpy\\core\\numeric.py:538: ComplexWarning: Casting complex values to real discards the imaginary part\n",
      "  return array(a, dtype, copy=False, order=order)\n"
     ]
    },
    {
     "data": {
      "image/png": "[encoded data removed]",
      "text/plain": [
       "<Figure size 432x288 with 1 Axes>"
      ]
     },
     "metadata": {
      "needs_background": "light"
     },
     "output_type": "display_data"
    }
   ],
   "source": [
    "plt.plot(t, y1_exp, t, y1_trig, t, y2_exp, t, y2_trig);"
   ]
  },
  {
   "attachments": {},
   "cell_type": "markdown",
   "metadata": {},
   "source": [
    "![image.png](img3.png)"
   ]
  },
  {
   "cell_type": "markdown",
   "metadata": {},
   "source": [
    "ზევით მოცემული თეორემის მიხედვით, შეგვიძლია ჩავწეროთ ნამდვილი მნიშვნელობის მქონე ამონახსნებიც: "
   ]
  },
  {
   "attachments": {},
   "cell_type": "markdown",
   "metadata": {},
   "source": [
    "![image.png](img4.png)"
   ]
  },
  {
   "cell_type": "markdown",
   "metadata": {},
   "source": [
    "ვპოულობთ მუდმივებს რომლებიც საწყის პირობას აკმაყოფილებენ:"
   ]
  },
  {
   "cell_type": "code",
   "execution_count": 5,
   "metadata": {},
   "outputs": [
    {
     "data": {
      "text/plain": [
       "{c1: 2.00000000000000, c2: 3.00000000000000}"
      ]
     },
     "execution_count": 5,
     "metadata": {},
     "output_type": "execute_result"
    }
   ],
   "source": [
    "c1, c2, t = symbols(\"c1 c2 t\")\n",
    "u = np.e**(r1.real*t)*cos(r1.imag*t)\n",
    "v = np.e**(r1.real*t)*sin(r1.imag*t)\n",
    "y = c1*u + c2*v\n",
    "dydt = diff(y, t)\n",
    "solve([y.subs(t, 0) - 2, dydt.subs(t, 0) - 8], (c1, c2))"
   ]
  },
  {
   "cell_type": "markdown",
   "metadata": {},
   "source": [
    "ავაგოთ საწყისი პირობის ამოცანის ამონახსნის გრაფიკი:"
   ]
  },
  {
   "cell_type": "code",
   "execution_count": 6,
   "metadata": {},
   "outputs": [
    {
     "data": {
      "image/png": "[encoded data removed]",
      "text/plain": [
       "<Figure size 432x288 with 1 Axes>"
      ]
     },
     "metadata": {
      "needs_background": "light"
     },
     "output_type": "display_data"
    }
   ],
   "source": [
    "t = np.linspace(0, 10, 100)\n",
    "y = np.e**(r1.real*t)*(2*np.cos(r1.imag*t)+3*np.sin(r1.imag*t))\n",
    "plt.plot(t, y);"
   ]
  },
  {
   "cell_type": "markdown",
   "metadata": {},
   "source": [
    "რაც წიგნში მაგალითის ამონახსნსაც შეესაბამება და თუ ამ მიმდევრობით ამოვხსნით გასაგებია, მაგრამ თუ გადავწყვეტთ, რომ დავიტოვოთ კომპლექსურმნიშვნელობიანი ამონახსნები, მაშინ, არსებობისა და ერთადერთობის თეორემის მიხედვით, ამონახსნი უნდა იყოს ზუსტად იგივე. "
   ]
  },
  {
   "cell_type": "markdown",
   "metadata": {},
   "source": [
    "მაგალითად, y1 და y2, შესაბამისად, იყოს კომპლექსური და ნამდვილი ამონახსნები. არის თუ არა შემდეგი ტოლობა ჭეშმარიტი: y1 = y2 ყველა t-სთვის? თუ კი, პირველ რიგში, როგორ უნდა მივიდეთ იგივე ამონახსნამდე? ნიშნავს ეს იმას, რომ კომპლექსური ამონახსნებისთვის მუდმივებიც კომპლექსური იქნება და საბოლოო ჯამში მხოლოდ ნამდვილ ღერძზე განსაზღვრულ ფუნქციას მივიღებთ?"
   ]
  },
  {
   "cell_type": "markdown",
   "metadata": {},
   "source": [
    "როგორი ფიზიკური ინტერპრეტაცია უნდა მივცეთ კომპლექსურ ამონახსნს? მაგალითად, რას ნიშნავს დენის კომპლექსური მნიშვნელობა? თუ კომპლექსური ფუნქციები უბრალოდ აკმაყოფილებენ საწყის განტოლებას მაგრამ ფიზიკურ შინაარსს არ ატარებენ?"
   ]
  },
  {
   "cell_type": "code",
   "execution_count": 7,
   "metadata": {},
   "outputs": [],
   "source": [
    "c1, c2, t = symbols(\"c1 c2 t\")\n",
    "# convert y1_trig & y2_trig to expressions\n",
    "y1 = np.e**(r1.real*t)*(cos(r1.imag*t)+1j*sin(r1.imag*t))\n",
    "y2 = np.e**(r2.real*t)*(cos(r2.imag*t)+1j*sin(r2.imag*t))\n",
    "# general solution in complex terms\n",
    "y = c1*y1 + c2*y2\n",
    "dydt = diff(y, t)"
   ]
  },
  {
   "cell_type": "code",
   "execution_count": 8,
   "metadata": {},
   "outputs": [
    {
     "data": {
      "text/plain": [
       "{c2: 1.0 + 1.5*I, c1: 1.0 - 1.5*I}"
      ]
     },
     "execution_count": 8,
     "metadata": {},
     "output_type": "execute_result"
    }
   ],
   "source": [
    "solve([y.subs(t, 0) - 2, dydt.subs(t, 0) - 8], (c1, c2))"
   ]
  },
  {
   "cell_type": "code",
   "execution_count": 9,
   "metadata": {},
   "outputs": [
    {
     "name": "stdout",
     "output_type": "stream",
     "text": [
      "0.367879441171442**(0.5*t)*(3.0*sin(3.0*t) + 2.0*cos(3.0*t))\n"
     ]
    },
    {
     "data": {
      "image/png": "[encoded data removed]",
      "text/plain": [
       "<Figure size 432x288 with 1 Axes>"
      ]
     },
     "metadata": {
      "needs_background": "light"
     },
     "output_type": "display_data"
    }
   ],
   "source": [
    "y = y.subs([(c1, 1 - 1.5*I), (c2, 1 + 1.5*I)])\n",
    "print(simplify(y))\n",
    "plot(y, (t, 0, 10));"
   ]
  },
  {
   "cell_type": "markdown",
   "metadata": {},
   "source": [
    "პ.ს. ზემოთ დაწერილი კოდით ითვლება მუდმივები კომპლექსური ფუნქციებისთვის. ეს მუდმივები მართლაც კომპლექსურები აღმოჩნდნენ და როგორც ჩანს მიღებული, გამარტივებული ფუნქცია ნამდვილ ფუნქციასაც ემთხვევა (ასეც უნდა ყოფილიყო). ეს პასუხს სცემს ზემოთ დასმული კითხვების უმრავლესობას, მაგრამ რჩება შეკითხვა კომპლექსური ფიზიკური სიდიდეების შინაარსის შესახებ."
   ]
  }
 ],
 "metadata": {
  "kernelspec": {
   "display_name": "Python 3",
   "language": "python",
   "name": "python3"
  },
  "language_info": {
   "codemirror_mode": {
    "name": "ipython",
    "version": 3
   },
   "file_extension": ".py",
   "mimetype": "text/x-python",
   "name": "python",
   "nbconvert_exporter": "python",
   "pygments_lexer": "ipython3",
   "version": "3.7.3"
  }
 },
 "nbformat": 4,
 "nbformat_minor": 2
}
